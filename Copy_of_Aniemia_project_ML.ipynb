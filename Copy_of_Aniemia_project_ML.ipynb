{
  "cells": [
    {
      "cell_type": "markdown",
      "metadata": {
        "id": "S_Q0n69jkgDE"
      },
      "source": [
        "Imports\n"
      ]
    },
    {
      "cell_type": "code",
      "execution_count": null,
      "metadata": {
        "id": "s5LzdrNp0siB"
      },
      "outputs": [],
      "source": [
        "import pandas as pd\n",
        "import numpy as np\n",
        "import os\n",
        "import cv2\n",
        "import glob as gb\n",
        "import tensorflow as tf\n",
        "import matplotlib.image as mpimg\n",
        "from sklearn import metrics #Import scikit-learn metrics module for accuracy calculation\n",
        "from  matplotlib import pyplot as plt\n",
        "from keras import models \n",
        "from keras import layers\n",
        "from scipy import fftpack\n",
        "\n",
        "from skimage import io, color\n",
        "from skimage.color import rgb2gray\n",
        "from skimage.io import imread\n",
        "from PIL import Image as im\n",
        "from PIL import ImageFile\n",
        "\n",
        "from sklearn.model_selection import train_test_split\n",
        "from sklearn.linear_model import LogisticRegression\n",
        "from sklearn import svm\n",
        "from sklearn.tree import DecisionTreeClassifier\n",
        "from sklearn.naive_bayes import GaussianNB\n",
        "from sklearn.neighbors import KNeighborsClassifier\n",
        "from sklearn import metrics\n",
        "from sklearn.model_selection import GridSearchCV\n",
        "from sklearn.metrics import accuracy_score,precision_score,recall_score,f1_score, classification_report\n",
        "from sklearn.metrics import classification_report, confusion_matrix\n"
      ]
    },
    {
      "cell_type": "code",
      "execution_count": null,
      "metadata": {
        "id": "IlZCYTRA1ERY"
      },
      "outputs": [],
      "source": [
        "def create_data_frame_for_folder_mean_red_and_green_rgb_images(filepath,label):\n",
        "  list_of_green_mean_intensities=[]\n",
        "  list_of_red_mean_intensities=[]\n",
        "  df = pd.DataFrame()\n",
        "  files = gb.glob(pathname= str(filepath+'/*.png'))\n",
        "  for file in files:\n",
        "      image = cv2.imread(file)\n",
        "      b,g,r = cv2.split(image)\n",
        "      \n",
        "      list_of_green_mean_intensities.append(np.mean(g))\n",
        "      list_of_red_mean_intensities.append(np.mean(r))\n",
        "  labels_list=[label]*len(list_of_green_mean_intensities)\n",
        "  df['Mean intensity of green']=list_of_green_mean_intensities\n",
        "  df['Mean intensity of red']=list_of_red_mean_intensities\n",
        "\n",
        "  df['Aniematic']=labels_list\n",
        "  return df\n",
        "\n"
      ]
    },
    {
      "cell_type": "markdown",
      "source": [
        "Helper functions"
      ],
      "metadata": {
        "id": "00Z5jSHu-6PH"
      }
    },
    {
      "cell_type": "code",
      "execution_count": null,
      "metadata": {
        "id": "sE3c8Dhl1FRD"
      },
      "outputs": [],
      "source": [
        "#CieLAB images functions\n",
        "\n",
        "#Check if pixel is white\n",
        "def IsWhite(pixel):\n",
        "  white=255\n",
        "  white_counter=0\n",
        "  is_white=False\n",
        "  for i in range(0,3):\n",
        "    if(pixel[i]==white):\n",
        "      white_counter=white_counter+1\n",
        "  if(white_counter==3):\n",
        "    is_white=True\n",
        "  return(is_white)\n",
        "#to reach cielab you must go from rgb to xyz\n",
        "#these conversions are from a website\n",
        "def convert_from_rgb_to_xyz(pixel):\n",
        "  var_R = ( pixel[0] / 255 )\n",
        "  var_G = ( pixel[1] / 255 )\n",
        "  var_B = ( pixel[2] / 255 )\n",
        "\n",
        "  if ( var_R > 0.04045 ):\n",
        "    var_R = ( ( var_R + 0.055 ) / 1.055 ) ** 2.4\n",
        "  else:\n",
        "    var_R = var_R / 12.92\n",
        "  if ( var_G > 0.04045 ):\n",
        "    var_G = ( ( var_G + 0.055 ) / 1.055 ) ** 2.4\n",
        "  else:\n",
        "    var_G = var_G / 12.92\n",
        "  if ( var_B > 0.04045 ):\n",
        "    var_B = ( ( var_B + 0.055 ) / 1.055 )** 2.4\n",
        "  else:\n",
        "    var_B = var_B / 12.92\n",
        "\n",
        "  var_R = var_R * 100\n",
        "  var_G = var_G * 100\n",
        "  var_B = var_B * 100\n",
        "\n",
        "  X = var_R * 0.4124 + var_G * 0.3576 + var_B * 0.1805\n",
        "  Y = var_R * 0.2126 + var_G * 0.7152 + var_B * 0.0722\n",
        "  Z = var_R * 0.0193 + var_G * 0.1192 + var_B * 0.9505\n",
        "  return [X,Y,Z]\n",
        "\n",
        "def convert_from_xyz_to_lab(xyz_pixel):\n",
        "  #these constants are from skimage documentation \n",
        "  X=95.047\n",
        "  Y=100.000\n",
        "  Z=108.883\n",
        "  var_X = xyz_pixel[0] / X\n",
        "  var_Y = xyz_pixel[1] / Y\n",
        "  var_Z = xyz_pixel[2] / Z\n",
        "\n",
        "  if ( var_X > 0.008856 ):\n",
        "     var_X = var_X** ( 1/3 )\n",
        "  else:\n",
        "     var_X = ( 7.787 * var_X ) + ( 16 / 116 )\n",
        "  if ( var_Y > 0.008856 ):\n",
        "     var_Y = var_Y ** ( 1/3 )\n",
        "  else:\n",
        "     var_Y = ( 7.787 * var_Y ) + ( 16 / 116 )\n",
        "  if ( var_Z > 0.008856 ):\n",
        "     var_Z = var_Z ** ( 1/3 )\n",
        "  else :\n",
        "     var_Z = ( 7.787 * var_Z ) + ( 16 / 116 )\n",
        "\n",
        "  l = ( 116 * var_Y ) - 16\n",
        "  a = 500 * ( var_X - var_Y )\n",
        "  b = 200 * ( var_Y - var_Z )\n",
        "  return l,a,b\n"
      ]
    },
    {
      "cell_type": "code",
      "execution_count": null,
      "metadata": {
        "id": "eN1yHqF31KqJ"
      },
      "outputs": [],
      "source": [
        "def create_data_frame_with_mean_of_red_and_green(folder_path,label):\n",
        "  list_of_red_components=[]\n",
        "  list_of_green_components=[]\n",
        "  list_of_means_of_green=[]\n",
        "  list_of_means_of_red=[]\n",
        "  df = pd.DataFrame()\n",
        "  #read image\n",
        "  #edit to fit png \n",
        "  files = gb.glob(pathname= str(folder_path+'/*.png'))\n",
        "  for file in files:\n",
        "    image = io.imread(file)\n",
        "    image_height=image.shape[0]\n",
        "    image_width=image.shape[1]\n",
        "    list_of_new_image_pixels=[]\n",
        "    #choose non white pixels in the image\n",
        "    for h in range(0,image_height):\n",
        "      for w in range(0,image_width):\n",
        "        if(IsWhite(image[h][w])==False):\n",
        "          list_of_new_image_pixels.append(image[h][w])\n",
        "\n",
        "    list_of_a_values=[]\n",
        "    #convert pixel list from rgb to cielab\n",
        "    #convertion is done pixel by pixel\n",
        "    for i in range (0,len(list_of_new_image_pixels)):\n",
        "      converted_to_xyz_pixel=convert_from_rgb_to_xyz(list_of_new_image_pixels[i])\n",
        "      l,a,b=convert_from_xyz_to_lab(converted_to_xyz_pixel)\n",
        "      list_of_a_values.append(a)\n",
        "    #caluclate red and green components for a list \n",
        "    for i in range (0,len(list_of_a_values)):\n",
        "        if(list_of_a_values[i]>0):\n",
        "          list_of_red_components.append(list_of_a_values[i])\n",
        "        elif(list_of_a_values[i]<0):\n",
        "          list_of_green_components.append(list_of_a_values[i])\n",
        "    list_of_means_of_green.append(np.mean(list_of_green_components))\n",
        "    list_of_means_of_red.append(np.mean(list_of_red_components))\n",
        "    \n",
        "\n",
        "  labels_list=[label]*len(list_of_means_of_green)\n",
        "  df['Mean intensity of green']=list_of_means_of_green\n",
        "  df['Mean intensity of red']=pd.Series(list_of_means_of_red)\n",
        "\n",
        "  df['Aniematic']=labels_list\n",
        "  return df"
      ]
    },
    {
      "cell_type": "code",
      "source": [
        "#function to extract median of channels to add it as a feature\n",
        "def extract_median(folder_path,label):\n",
        "  files = gb.glob(pathname= str(folder_path+'/*.jpg'))\n",
        "  list_of_g_medians=[]\n",
        "  list_of_r_medians=[]\n",
        "  df = pd.DataFrame()\n",
        "\n",
        "  for file in files:\n",
        "        image = cv2.imread(file)\n",
        "        b, g, r = cv2.split(image) # Split channels\n",
        "        # Remove zeros\n",
        "        g = g[g != 0]\n",
        "        r = r[r != 0]\n",
        "        g=g[g != 255]\n",
        "        r=r[r != 255]\n",
        "        # median values\n",
        "        r_median = np.median(r)\n",
        "        g_median = np.median(g)\n",
        "        list_of_g_medians.append(g_median)\n",
        "        list_of_r_medians.append(r_median)\n",
        "  df['Median of green']=list_of_g_medians\n",
        "  df['Median of red']=list_of_r_medians\n",
        "\n",
        "  return df\n",
        "\n",
        "\n"
      ],
      "metadata": {
        "id": "ol3fa3n2VCEk"
      },
      "execution_count": null,
      "outputs": []
    },
    {
      "cell_type": "markdown",
      "source": [
        "Reading data from saved csv"
      ],
      "metadata": {
        "id": "1NWyqq-r_Wlc"
      }
    },
    {
      "cell_type": "code",
      "execution_count": null,
      "metadata": {
        "id": "hOrxEeY91jf9"
      },
      "outputs": [],
      "source": [
        "data_cielab_fp=pd.read_csv(r\"/content/drive/MyDrive/Datasets/Aniemia/csv files/cielab/df_forniceal_palpebral2.csv\")\n",
        "data_cielab_p=pd.read_csv(r\"/content/drive/MyDrive/Datasets/Aniemia/csv files/cielab/df_palpebral2.csv\")\n",
        "data_cielab_f=pd.read_csv(r\"/content/drive/MyDrive/Datasets/Aniemia/csv files/cielab/df_forniceal2.csv\")\n",
        "#data_rgb_fp=pd.read_csv(r\"/content/drive/MyDrive/Datasets/Aniemia/csv files/rgb/df_forniceal_palpebral_rgb.csv\")\n",
        "#data_rgb_p=pd.read_csv(r\"/content/drive/MyDrive/Datasets/Aniemia/csv files/rgb/df_palpebral_rgb.csv\")\n",
        "#data_rgb_f=pd.read_csv(r\"/content/drive/MyDrive/Datasets/Aniemia/csv files/rgb/df_forniceal_rgb.csv\")\n",
        "data_rgb_fp=pd.read_csv(r\"/content/drive/MyDrive/Datasets/Aniemia/csv files/rgb/df_forniceal_palpebralnew.csv\")\n",
        "data_rgb_p=pd.read_csv(r\"/content/drive/MyDrive/Datasets/Aniemia/csv files/rgb/datasetpalpebralnew.csv\")\n",
        "data_rgb_f=pd.read_csv(r\"/content/drive/MyDrive/Datasets/Aniemia/csv files/rgb/df_fornicealnew.csv\")"
      ]
    },
    {
      "cell_type": "code",
      "source": [
        "#data_rgb_fp['Median of green']= med_g_fp\n",
        "data_rgb_fp.insert(loc=3,column='Median of green',value=med_g_fp)\n",
        "data_rgb_fp.insert(loc=4,column='Median of red',value=med_r_fp)\n",
        "data_rgb_f.insert(loc=3,column='Median of green',value=med_g_f)\n",
        "data_rgb_f.insert(loc=4,column='Median of red',value=med_r_f)\n",
        "data_rgb_p.insert(loc=3,column='Median of green',value=med_g_p)\n",
        "data_rgb_p.insert(loc=4,column='Median of red',value=med_r_p)\n",
        "#data_rgb_fp['Median of red']= med_r_fp\n",
        "#data_rgb_f['Median of green']= med_g_f\n",
        "#data_rgb_f['Median of red']= med_r_f\n",
        "#data_rgb_p['Median of green']= med_g_p\n",
        "#data_rgb_p['Median of red']= med_r_p"
      ],
      "metadata": {
        "id": "xvNmumxCgDLx"
      },
      "execution_count": null,
      "outputs": []
    },
    {
      "cell_type": "code",
      "source": [
        "data_rgb_fp"
      ],
      "metadata": {
        "colab": {
          "base_uri": "https://localhost:8080/",
          "height": 424
        },
        "id": "ZbnUfNeugQgx",
        "outputId": "a1726c28-4af4-426d-a150-2c6b5bd6af76"
      },
      "execution_count": null,
      "outputs": [
        {
          "output_type": "execute_result",
          "data": {
            "text/plain": [
              "     Unnamed: 0  Mean intensity of green  Mean intensity of red  \\\n",
              "0             0               236.261997             244.383783   \n",
              "1             1               244.622951             249.548226   \n",
              "2             2               234.204748             244.377635   \n",
              "3             3               238.641478             245.723182   \n",
              "4             4               239.287858             246.292678   \n",
              "..          ...                      ...                    ...   \n",
              "205         107               231.710136             239.971426   \n",
              "206         108               228.860588             238.967721   \n",
              "207         109               238.240257             244.644643   \n",
              "208         110               240.891584             246.833267   \n",
              "209         111               236.076925             245.242424   \n",
              "\n",
              "     Median of green  Median of red  Aniematic  \n",
              "0              125.0          187.0          1  \n",
              "1              117.0          187.0          1  \n",
              "2              134.0          191.0          1  \n",
              "3              118.0          181.0          1  \n",
              "4              146.0          194.0          1  \n",
              "..               ...            ...        ...  \n",
              "205             84.0          176.0          0  \n",
              "206             74.0          148.0          0  \n",
              "207             78.0          152.0          0  \n",
              "208             92.0          178.0          0  \n",
              "209            107.0          173.0          0  \n",
              "\n",
              "[210 rows x 6 columns]"
            ],
            "text/html": [
              "\n",
              "  <div id=\"df-af53256e-35a9-4f9a-8da4-db5505594390\">\n",
              "    <div class=\"colab-df-container\">\n",
              "      <div>\n",
              "<style scoped>\n",
              "    .dataframe tbody tr th:only-of-type {\n",
              "        vertical-align: middle;\n",
              "    }\n",
              "\n",
              "    .dataframe tbody tr th {\n",
              "        vertical-align: top;\n",
              "    }\n",
              "\n",
              "    .dataframe thead th {\n",
              "        text-align: right;\n",
              "    }\n",
              "</style>\n",
              "<table border=\"1\" class=\"dataframe\">\n",
              "  <thead>\n",
              "    <tr style=\"text-align: right;\">\n",
              "      <th></th>\n",
              "      <th>Unnamed: 0</th>\n",
              "      <th>Mean intensity of green</th>\n",
              "      <th>Mean intensity of red</th>\n",
              "      <th>Median of green</th>\n",
              "      <th>Median of red</th>\n",
              "      <th>Aniematic</th>\n",
              "    </tr>\n",
              "  </thead>\n",
              "  <tbody>\n",
              "    <tr>\n",
              "      <th>0</th>\n",
              "      <td>0</td>\n",
              "      <td>236.261997</td>\n",
              "      <td>244.383783</td>\n",
              "      <td>125.0</td>\n",
              "      <td>187.0</td>\n",
              "      <td>1</td>\n",
              "    </tr>\n",
              "    <tr>\n",
              "      <th>1</th>\n",
              "      <td>1</td>\n",
              "      <td>244.622951</td>\n",
              "      <td>249.548226</td>\n",
              "      <td>117.0</td>\n",
              "      <td>187.0</td>\n",
              "      <td>1</td>\n",
              "    </tr>\n",
              "    <tr>\n",
              "      <th>2</th>\n",
              "      <td>2</td>\n",
              "      <td>234.204748</td>\n",
              "      <td>244.377635</td>\n",
              "      <td>134.0</td>\n",
              "      <td>191.0</td>\n",
              "      <td>1</td>\n",
              "    </tr>\n",
              "    <tr>\n",
              "      <th>3</th>\n",
              "      <td>3</td>\n",
              "      <td>238.641478</td>\n",
              "      <td>245.723182</td>\n",
              "      <td>118.0</td>\n",
              "      <td>181.0</td>\n",
              "      <td>1</td>\n",
              "    </tr>\n",
              "    <tr>\n",
              "      <th>4</th>\n",
              "      <td>4</td>\n",
              "      <td>239.287858</td>\n",
              "      <td>246.292678</td>\n",
              "      <td>146.0</td>\n",
              "      <td>194.0</td>\n",
              "      <td>1</td>\n",
              "    </tr>\n",
              "    <tr>\n",
              "      <th>...</th>\n",
              "      <td>...</td>\n",
              "      <td>...</td>\n",
              "      <td>...</td>\n",
              "      <td>...</td>\n",
              "      <td>...</td>\n",
              "      <td>...</td>\n",
              "    </tr>\n",
              "    <tr>\n",
              "      <th>205</th>\n",
              "      <td>107</td>\n",
              "      <td>231.710136</td>\n",
              "      <td>239.971426</td>\n",
              "      <td>84.0</td>\n",
              "      <td>176.0</td>\n",
              "      <td>0</td>\n",
              "    </tr>\n",
              "    <tr>\n",
              "      <th>206</th>\n",
              "      <td>108</td>\n",
              "      <td>228.860588</td>\n",
              "      <td>238.967721</td>\n",
              "      <td>74.0</td>\n",
              "      <td>148.0</td>\n",
              "      <td>0</td>\n",
              "    </tr>\n",
              "    <tr>\n",
              "      <th>207</th>\n",
              "      <td>109</td>\n",
              "      <td>238.240257</td>\n",
              "      <td>244.644643</td>\n",
              "      <td>78.0</td>\n",
              "      <td>152.0</td>\n",
              "      <td>0</td>\n",
              "    </tr>\n",
              "    <tr>\n",
              "      <th>208</th>\n",
              "      <td>110</td>\n",
              "      <td>240.891584</td>\n",
              "      <td>246.833267</td>\n",
              "      <td>92.0</td>\n",
              "      <td>178.0</td>\n",
              "      <td>0</td>\n",
              "    </tr>\n",
              "    <tr>\n",
              "      <th>209</th>\n",
              "      <td>111</td>\n",
              "      <td>236.076925</td>\n",
              "      <td>245.242424</td>\n",
              "      <td>107.0</td>\n",
              "      <td>173.0</td>\n",
              "      <td>0</td>\n",
              "    </tr>\n",
              "  </tbody>\n",
              "</table>\n",
              "<p>210 rows × 6 columns</p>\n",
              "</div>\n",
              "      <button class=\"colab-df-convert\" onclick=\"convertToInteractive('df-af53256e-35a9-4f9a-8da4-db5505594390')\"\n",
              "              title=\"Convert this dataframe to an interactive table.\"\n",
              "              style=\"display:none;\">\n",
              "        \n",
              "  <svg xmlns=\"http://www.w3.org/2000/svg\" height=\"24px\"viewBox=\"0 0 24 24\"\n",
              "       width=\"24px\">\n",
              "    <path d=\"M0 0h24v24H0V0z\" fill=\"none\"/>\n",
              "    <path d=\"M18.56 5.44l.94 2.06.94-2.06 2.06-.94-2.06-.94-.94-2.06-.94 2.06-2.06.94zm-11 1L8.5 8.5l.94-2.06 2.06-.94-2.06-.94L8.5 2.5l-.94 2.06-2.06.94zm10 10l.94 2.06.94-2.06 2.06-.94-2.06-.94-.94-2.06-.94 2.06-2.06.94z\"/><path d=\"M17.41 7.96l-1.37-1.37c-.4-.4-.92-.59-1.43-.59-.52 0-1.04.2-1.43.59L10.3 9.45l-7.72 7.72c-.78.78-.78 2.05 0 2.83L4 21.41c.39.39.9.59 1.41.59.51 0 1.02-.2 1.41-.59l7.78-7.78 2.81-2.81c.8-.78.8-2.07 0-2.86zM5.41 20L4 18.59l7.72-7.72 1.47 1.35L5.41 20z\"/>\n",
              "  </svg>\n",
              "      </button>\n",
              "      \n",
              "  <style>\n",
              "    .colab-df-container {\n",
              "      display:flex;\n",
              "      flex-wrap:wrap;\n",
              "      gap: 12px;\n",
              "    }\n",
              "\n",
              "    .colab-df-convert {\n",
              "      background-color: #E8F0FE;\n",
              "      border: none;\n",
              "      border-radius: 50%;\n",
              "      cursor: pointer;\n",
              "      display: none;\n",
              "      fill: #1967D2;\n",
              "      height: 32px;\n",
              "      padding: 0 0 0 0;\n",
              "      width: 32px;\n",
              "    }\n",
              "\n",
              "    .colab-df-convert:hover {\n",
              "      background-color: #E2EBFA;\n",
              "      box-shadow: 0px 1px 2px rgba(60, 64, 67, 0.3), 0px 1px 3px 1px rgba(60, 64, 67, 0.15);\n",
              "      fill: #174EA6;\n",
              "    }\n",
              "\n",
              "    [theme=dark] .colab-df-convert {\n",
              "      background-color: #3B4455;\n",
              "      fill: #D2E3FC;\n",
              "    }\n",
              "\n",
              "    [theme=dark] .colab-df-convert:hover {\n",
              "      background-color: #434B5C;\n",
              "      box-shadow: 0px 1px 3px 1px rgba(0, 0, 0, 0.15);\n",
              "      filter: drop-shadow(0px 1px 2px rgba(0, 0, 0, 0.3));\n",
              "      fill: #FFFFFF;\n",
              "    }\n",
              "  </style>\n",
              "\n",
              "      <script>\n",
              "        const buttonEl =\n",
              "          document.querySelector('#df-af53256e-35a9-4f9a-8da4-db5505594390 button.colab-df-convert');\n",
              "        buttonEl.style.display =\n",
              "          google.colab.kernel.accessAllowed ? 'block' : 'none';\n",
              "\n",
              "        async function convertToInteractive(key) {\n",
              "          const element = document.querySelector('#df-af53256e-35a9-4f9a-8da4-db5505594390');\n",
              "          const dataTable =\n",
              "            await google.colab.kernel.invokeFunction('convertToInteractive',\n",
              "                                                     [key], {});\n",
              "          if (!dataTable) return;\n",
              "\n",
              "          const docLinkHtml = 'Like what you see? Visit the ' +\n",
              "            '<a target=\"_blank\" href=https://colab.research.google.com/notebooks/data_table.ipynb>data table notebook</a>'\n",
              "            + ' to learn more about interactive tables.';\n",
              "          element.innerHTML = '';\n",
              "          dataTable['output_type'] = 'display_data';\n",
              "          await google.colab.output.renderOutput(dataTable, element);\n",
              "          const docLink = document.createElement('div');\n",
              "          docLink.innerHTML = docLinkHtml;\n",
              "          element.appendChild(docLink);\n",
              "        }\n",
              "      </script>\n",
              "    </div>\n",
              "  </div>\n",
              "  "
            ]
          },
          "metadata": {},
          "execution_count": 38
        }
      ]
    },
    {
      "cell_type": "code",
      "execution_count": null,
      "metadata": {
        "id": "KcidMj4W1iCo"
      },
      "outputs": [],
      "source": [
        "features=['Mean intensity of green','Mean intensity of red']\n",
        "features_rgb=['Median of green','Median of red']"
      ]
    },
    {
      "cell_type": "code",
      "source": [
        "data_cielab_fp"
      ],
      "metadata": {
        "colab": {
          "base_uri": "https://localhost:8080/",
          "height": 424
        },
        "id": "z-x_PmV0-Jh9",
        "outputId": "b8cd8e72-4112-4939-d2a3-471fdeb8f981"
      },
      "execution_count": null,
      "outputs": [
        {
          "output_type": "execute_result",
          "data": {
            "text/plain": [
              "     Unnamed: 0  Mean intensity of green  Mean intensity of red  Aniematic\n",
              "0             0                -0.863192              21.565868          1\n",
              "1             1                -0.889914              22.971307          1\n",
              "2             2                -0.993238              24.757966          1\n",
              "3             3                -1.033498              24.787154          1\n",
              "4             4                -1.002398              24.618989          1\n",
              "..          ...                      ...                    ...        ...\n",
              "205         107                -0.775627              32.448125          0\n",
              "206         108                -0.774660              32.448239          0\n",
              "207         109                -0.774592              32.437953          0\n",
              "208         110                -0.774457              32.414778          0\n",
              "209         111                -0.774121              32.427461          0\n",
              "\n",
              "[210 rows x 4 columns]"
            ],
            "text/html": [
              "\n",
              "  <div id=\"df-c5d803bf-09af-48d8-9454-622c354c2778\">\n",
              "    <div class=\"colab-df-container\">\n",
              "      <div>\n",
              "<style scoped>\n",
              "    .dataframe tbody tr th:only-of-type {\n",
              "        vertical-align: middle;\n",
              "    }\n",
              "\n",
              "    .dataframe tbody tr th {\n",
              "        vertical-align: top;\n",
              "    }\n",
              "\n",
              "    .dataframe thead th {\n",
              "        text-align: right;\n",
              "    }\n",
              "</style>\n",
              "<table border=\"1\" class=\"dataframe\">\n",
              "  <thead>\n",
              "    <tr style=\"text-align: right;\">\n",
              "      <th></th>\n",
              "      <th>Unnamed: 0</th>\n",
              "      <th>Mean intensity of green</th>\n",
              "      <th>Mean intensity of red</th>\n",
              "      <th>Aniematic</th>\n",
              "    </tr>\n",
              "  </thead>\n",
              "  <tbody>\n",
              "    <tr>\n",
              "      <th>0</th>\n",
              "      <td>0</td>\n",
              "      <td>-0.863192</td>\n",
              "      <td>21.565868</td>\n",
              "      <td>1</td>\n",
              "    </tr>\n",
              "    <tr>\n",
              "      <th>1</th>\n",
              "      <td>1</td>\n",
              "      <td>-0.889914</td>\n",
              "      <td>22.971307</td>\n",
              "      <td>1</td>\n",
              "    </tr>\n",
              "    <tr>\n",
              "      <th>2</th>\n",
              "      <td>2</td>\n",
              "      <td>-0.993238</td>\n",
              "      <td>24.757966</td>\n",
              "      <td>1</td>\n",
              "    </tr>\n",
              "    <tr>\n",
              "      <th>3</th>\n",
              "      <td>3</td>\n",
              "      <td>-1.033498</td>\n",
              "      <td>24.787154</td>\n",
              "      <td>1</td>\n",
              "    </tr>\n",
              "    <tr>\n",
              "      <th>4</th>\n",
              "      <td>4</td>\n",
              "      <td>-1.002398</td>\n",
              "      <td>24.618989</td>\n",
              "      <td>1</td>\n",
              "    </tr>\n",
              "    <tr>\n",
              "      <th>...</th>\n",
              "      <td>...</td>\n",
              "      <td>...</td>\n",
              "      <td>...</td>\n",
              "      <td>...</td>\n",
              "    </tr>\n",
              "    <tr>\n",
              "      <th>205</th>\n",
              "      <td>107</td>\n",
              "      <td>-0.775627</td>\n",
              "      <td>32.448125</td>\n",
              "      <td>0</td>\n",
              "    </tr>\n",
              "    <tr>\n",
              "      <th>206</th>\n",
              "      <td>108</td>\n",
              "      <td>-0.774660</td>\n",
              "      <td>32.448239</td>\n",
              "      <td>0</td>\n",
              "    </tr>\n",
              "    <tr>\n",
              "      <th>207</th>\n",
              "      <td>109</td>\n",
              "      <td>-0.774592</td>\n",
              "      <td>32.437953</td>\n",
              "      <td>0</td>\n",
              "    </tr>\n",
              "    <tr>\n",
              "      <th>208</th>\n",
              "      <td>110</td>\n",
              "      <td>-0.774457</td>\n",
              "      <td>32.414778</td>\n",
              "      <td>0</td>\n",
              "    </tr>\n",
              "    <tr>\n",
              "      <th>209</th>\n",
              "      <td>111</td>\n",
              "      <td>-0.774121</td>\n",
              "      <td>32.427461</td>\n",
              "      <td>0</td>\n",
              "    </tr>\n",
              "  </tbody>\n",
              "</table>\n",
              "<p>210 rows × 4 columns</p>\n",
              "</div>\n",
              "      <button class=\"colab-df-convert\" onclick=\"convertToInteractive('df-c5d803bf-09af-48d8-9454-622c354c2778')\"\n",
              "              title=\"Convert this dataframe to an interactive table.\"\n",
              "              style=\"display:none;\">\n",
              "        \n",
              "  <svg xmlns=\"http://www.w3.org/2000/svg\" height=\"24px\"viewBox=\"0 0 24 24\"\n",
              "       width=\"24px\">\n",
              "    <path d=\"M0 0h24v24H0V0z\" fill=\"none\"/>\n",
              "    <path d=\"M18.56 5.44l.94 2.06.94-2.06 2.06-.94-2.06-.94-.94-2.06-.94 2.06-2.06.94zm-11 1L8.5 8.5l.94-2.06 2.06-.94-2.06-.94L8.5 2.5l-.94 2.06-2.06.94zm10 10l.94 2.06.94-2.06 2.06-.94-2.06-.94-.94-2.06-.94 2.06-2.06.94z\"/><path d=\"M17.41 7.96l-1.37-1.37c-.4-.4-.92-.59-1.43-.59-.52 0-1.04.2-1.43.59L10.3 9.45l-7.72 7.72c-.78.78-.78 2.05 0 2.83L4 21.41c.39.39.9.59 1.41.59.51 0 1.02-.2 1.41-.59l7.78-7.78 2.81-2.81c.8-.78.8-2.07 0-2.86zM5.41 20L4 18.59l7.72-7.72 1.47 1.35L5.41 20z\"/>\n",
              "  </svg>\n",
              "      </button>\n",
              "      \n",
              "  <style>\n",
              "    .colab-df-container {\n",
              "      display:flex;\n",
              "      flex-wrap:wrap;\n",
              "      gap: 12px;\n",
              "    }\n",
              "\n",
              "    .colab-df-convert {\n",
              "      background-color: #E8F0FE;\n",
              "      border: none;\n",
              "      border-radius: 50%;\n",
              "      cursor: pointer;\n",
              "      display: none;\n",
              "      fill: #1967D2;\n",
              "      height: 32px;\n",
              "      padding: 0 0 0 0;\n",
              "      width: 32px;\n",
              "    }\n",
              "\n",
              "    .colab-df-convert:hover {\n",
              "      background-color: #E2EBFA;\n",
              "      box-shadow: 0px 1px 2px rgba(60, 64, 67, 0.3), 0px 1px 3px 1px rgba(60, 64, 67, 0.15);\n",
              "      fill: #174EA6;\n",
              "    }\n",
              "\n",
              "    [theme=dark] .colab-df-convert {\n",
              "      background-color: #3B4455;\n",
              "      fill: #D2E3FC;\n",
              "    }\n",
              "\n",
              "    [theme=dark] .colab-df-convert:hover {\n",
              "      background-color: #434B5C;\n",
              "      box-shadow: 0px 1px 3px 1px rgba(0, 0, 0, 0.15);\n",
              "      filter: drop-shadow(0px 1px 2px rgba(0, 0, 0, 0.3));\n",
              "      fill: #FFFFFF;\n",
              "    }\n",
              "  </style>\n",
              "\n",
              "      <script>\n",
              "        const buttonEl =\n",
              "          document.querySelector('#df-c5d803bf-09af-48d8-9454-622c354c2778 button.colab-df-convert');\n",
              "        buttonEl.style.display =\n",
              "          google.colab.kernel.accessAllowed ? 'block' : 'none';\n",
              "\n",
              "        async function convertToInteractive(key) {\n",
              "          const element = document.querySelector('#df-c5d803bf-09af-48d8-9454-622c354c2778');\n",
              "          const dataTable =\n",
              "            await google.colab.kernel.invokeFunction('convertToInteractive',\n",
              "                                                     [key], {});\n",
              "          if (!dataTable) return;\n",
              "\n",
              "          const docLinkHtml = 'Like what you see? Visit the ' +\n",
              "            '<a target=\"_blank\" href=https://colab.research.google.com/notebooks/data_table.ipynb>data table notebook</a>'\n",
              "            + ' to learn more about interactive tables.';\n",
              "          element.innerHTML = '';\n",
              "          dataTable['output_type'] = 'display_data';\n",
              "          await google.colab.output.renderOutput(dataTable, element);\n",
              "          const docLink = document.createElement('div');\n",
              "          docLink.innerHTML = docLinkHtml;\n",
              "          element.appendChild(docLink);\n",
              "        }\n",
              "      </script>\n",
              "    </div>\n",
              "  </div>\n",
              "  "
            ]
          },
          "metadata": {},
          "execution_count": 40
        }
      ]
    },
    {
      "cell_type": "code",
      "execution_count": null,
      "metadata": {
        "id": "URrTlBGb5rKh",
        "colab": {
          "base_uri": "https://localhost:8080/",
          "height": 1000
        },
        "outputId": "3a506b21-23e3-48ac-c06a-6a422368e386"
      },
      "outputs": [
        {
          "output_type": "display_data",
          "data": {
            "text/plain": [
              "<Figure size 1440x1440 with 6 Axes>"
            ],
            "image/png": "[encoded data removed]"
          },
          "metadata": {
            "needs_background": "light"
          }
        }
      ],
      "source": [
        "import seaborn as sns\n",
        "import matplotlib.pyplot as plt\n",
        "import pandas as pd\n",
        " \n",
        "# reading the database\n",
        "fig, axs = plt.subplots(2,3,figsize=(20, 20))\n",
        "\n",
        "axs[0,0].set_title('q1')\n",
        "axs[0,1].set_title('q2')\n",
        "axs[0,2].set_title('Cielab paplbera')\n",
        "\n",
        "sns.scatterplot(x='Mean intensity of green', y='Mean intensity of red', data=data_cielab_fp,hue='Aniematic',ax=axs[0,0])\n",
        "sns.scatterplot(x='Mean intensity of green', y='Mean intensity of red', data=data_cielab_f,hue='Aniematic',ax=axs[0,1])\n",
        "sns.scatterplot(x='Mean intensity of green', y='Mean intensity of red', data=data_cielab_p,hue='Aniematic',ax=axs[0,2])\n",
        "sns.scatterplot(x='Mean intensity of green', y='Mean intensity of red', data=data_rgb_fp,hue='Aniematic',ax=axs[1,0])\n",
        "sns.scatterplot(x='Mean intensity of green', y='Mean intensity of red', data=data_rgb_f,hue='Aniematic',ax=axs[1,1])\n",
        "sns.scatterplot(x='Mean intensity of green', y='Mean intensity of red', data=data_rgb_p,hue='Aniematic',ax=axs[1,2])\n",
        "plt.show()"
      ]
    },
    {
      "cell_type": "markdown",
      "source": [
        "Making dataset variables , splitting data to train and test"
      ],
      "metadata": {
        "id": "zYU0Ae4cSuw9"
      }
    },
    {
      "cell_type": "code",
      "execution_count": null,
      "metadata": {
        "id": "b6sJ9e6l2fbF"
      },
      "outputs": [],
      "source": [
        "x_cielab_fp=data_cielab_fp[features]\n",
        "y_cielab_fp=data_cielab_fp.iloc[:,-1:]\n",
        "y_cielab_fp=y_cielab_fp.values.ravel()\n",
        "\n",
        "x_cielab_f=data_cielab_f[features]\n",
        "y_cielab_f=data_cielab_f.iloc[:,-1:]\n",
        "y_cielab_f=y_cielab_f.values.ravel()\n",
        "\n",
        "x_cielab_p=data_cielab_p[features]\n",
        "y_cielab_p=data_cielab_p.iloc[:,-1:]\n",
        "y_cielab_p=y_cielab_p.values.ravel()\n",
        "\n",
        "x_rgb_fp=data_rgb_fp[features]\n",
        "y_rgb_fp=data_rgb_fp.iloc[:,-1:]\n",
        "y_rgb_fp=y_rgb_fp.values.ravel()\n",
        "\n",
        "x_rgb_f=data_rgb_f[features]\n",
        "y_rgb_f=data_rgb_f.iloc[:,-1:]\n",
        "y_rgb_f=y_rgb_f.values.ravel()\n",
        "\n",
        "x_rgb_p=data_rgb_p[features]\n",
        "y_rgb_p=data_rgb_p.iloc[:,-1:]\n",
        "y_rgb_p=y_rgb_p.values.ravel()\n",
        "\n",
        "\n",
        "\n",
        "x_train_cielab_fp,x_test_cielab_fp,y_train_cielab_fp,y_test_cielab_fp=train_test_split(x_cielab_fp,y_cielab_fp,test_size=0.3,random_state=0)\n",
        "x_train_cielab_f,x_test_cielab_f,y_train_cielab_f,y_test_cielab_f=train_test_split(x_cielab_f,y_cielab_f,test_size=0.3,random_state=0)\n",
        "x_train_cielab_p,x_test_cielab_p,y_train_cielab_p,y_test_cielab_p=train_test_split(x_cielab_p,y_cielab_p,test_size=0.3,random_state=0)\n",
        "x_train_rgb_fp,x_test_rgb_fp,y_train_rgb_fp,y_test_rgb_fp=train_test_split(x_rgb_fp,y_rgb_fp,test_size=0.3,random_state=0)\n",
        "x_train_rgb_f,x_test_rgb_f,y_train_rgb_f,y_test_rgb_f=train_test_split(x_rgb_f,y_rgb_f,test_size=0.3,random_state=0)\n",
        "x_train_rgb_p,x_test_rgb_p,y_train_rgb_p,y_test_rgb_p=train_test_split(x_rgb_p,y_rgb_p,test_size=0.3,random_state=0)\n"
      ]
    },
    {
      "cell_type": "markdown",
      "source": [
        "Getting hyper parameters for log reg"
      ],
      "metadata": {
        "id": "IgvpppxaTuoS"
      }
    },
    {
      "cell_type": "code",
      "execution_count": null,
      "metadata": {
        "id": "UMLJrH2I5bFa",
        "colab": {
          "base_uri": "https://localhost:8080/"
        },
        "outputId": "66ba2941-5078-4da8-cd56-41d1d06b6067"
      },
      "outputs": [
        {
          "output_type": "stream",
          "name": "stderr",
          "text": [
            "/usr/local/lib/python3.8/dist-packages/sklearn/linear_model/_logistic.py:814: ConvergenceWarning: lbfgs failed to converge (status=2):\n",
            "ABNORMAL_TERMINATION_IN_LNSRCH.\n",
            "\n",
            "Increase the number of iterations (max_iter) or scale the data as shown in:\n",
            "    https://scikit-learn.org/stable/modules/preprocessing.html\n",
            "Please also refer to the documentation for alternative solver options:\n",
            "    https://scikit-learn.org/stable/modules/linear_model.html#logistic-regression\n",
            "  n_iter_i = _check_optimize_result(\n"
          ]
        }
      ],
      "source": [
        "from sklearn.model_selection import GridSearchCV\n",
        "\n",
        "param_log = {'C': np.logspace(-12, 12, num=22),'penalty' : ['l2']}\n",
        "\n",
        "log_model=LogisticRegression() \n",
        "def logreg_hyper_parameters(x_train,y_train):\n",
        "  log_gscv = GridSearchCV(log_model, param_log)\n",
        "  log_gscv.fit(x_train, y_train)\n",
        "  log_best_parameters=log_gscv.best_params_\n",
        "  C_log=log_best_parameters['C']\n",
        "  penalty_log=log_best_parameters['penalty']\n",
        "  return(C_log,penalty_log)\n",
        "\n",
        "\n",
        "C_log_cielab_fp,penalty_log_cielab_fp=logreg_hyper_parameters(x_train_cielab_fp, y_train_cielab_fp)\n",
        "C_log_cielab_f,penalty_log_cielab_f=logreg_hyper_parameters(x_train_cielab_f, y_train_cielab_f)\n",
        "C_log_cielab_p,penalty_log_cielab_p=logreg_hyper_parameters(x_train_cielab_p, y_train_cielab_p)\n",
        "\n",
        "C_log_rgb_fp,penalty_log_rgb_fp=logreg_hyper_parameters(x_train_rgb_fp, y_train_rgb_fp)\n",
        "C_log_rgb_f,penalty_log_rgb_f=logreg_hyper_parameters(x_train_rgb_f, y_train_rgb_f)\n",
        "C_log_rgb_p,penalty_log_rgb_p=logreg_hyper_parameters(x_train_rgb_p, y_train_rgb_p)"
      ]
    },
    {
      "cell_type": "markdown",
      "source": [
        "Training , testing and scoring of log reg"
      ],
      "metadata": {
        "id": "HZQzzo4bT-oQ"
      }
    },
    {
      "cell_type": "code",
      "execution_count": null,
      "metadata": {
        "colab": {
          "base_uri": "https://localhost:8080/"
        },
        "id": "GygC8vWz5kb8",
        "outputId": "9e16830c-c0ba-46db-e677-8f9e6d703424"
      },
      "outputs": [
        {
          "output_type": "stream",
          "name": "stdout",
          "text": [
            "log train score is: 0.9931972789115646 log test is 1.0\n",
            "log train score is: 1.0 log test is 1.0\n",
            "log train score is: 1.0 log test is 1.0\n",
            "log train score is: 0.7891156462585034 log test is 0.7619047619047619\n",
            "log train score is: 0.6081081081081081 log test is 0.5625\n",
            "log train score is: 0.7350993377483444 log test is 0.7384615384615385\n"
          ]
        }
      ],
      "source": [
        "def logreg_training_testing_scoring(c,penalty,x_train,x_test,y_train,y_test):\n",
        "  logreg = LogisticRegression(C=  c,penalty= penalty)\n",
        "  logreg.fit(x_train,y_train)\n",
        "  log_train=logreg.score(x_train,y_train)\n",
        "  log_test=logreg.score(x_test,y_test)\n",
        "  print(\"log train score is:\",log_train,\"log test is\",log_test)\n",
        "  return logreg\n",
        "\n",
        "logreg_cielab_fp = logreg_training_testing_scoring(C_log_cielab_fp,penalty_log_cielab_fp,x_train_cielab_fp,x_test_cielab_fp,y_train_cielab_fp,y_test_cielab_fp)\n",
        "logreg_cielab_f = logreg_training_testing_scoring(C_log_cielab_f,penalty_log_cielab_f,x_train_cielab_f,x_test_cielab_f,y_train_cielab_f,y_test_cielab_f)\n",
        "logreg_cielab_p = logreg_training_testing_scoring(C_log_cielab_p,penalty_log_cielab_p,x_train_cielab_p,x_test_cielab_p,y_train_cielab_p,y_test_cielab_p)\n",
        "\n",
        "logreg_rgb_fp = logreg_training_testing_scoring(C_log_rgb_fp,penalty_log_rgb_fp,x_train_rgb_fp,x_test_rgb_fp,y_train_rgb_fp,y_test_rgb_fp)\n",
        "logreg_rgb_f = logreg_training_testing_scoring(C_log_rgb_f,penalty_log_rgb_f,x_train_rgb_f,x_test_rgb_f,y_train_rgb_f,y_test_rgb_f)\n",
        "logreg_rgb_p = logreg_training_testing_scoring(C_log_rgb_p,penalty_log_rgb_p,x_train_rgb_p,x_test_rgb_p,y_train_rgb_p,y_test_rgb_p)"
      ]
    },
    {
      "cell_type": "markdown",
      "source": [
        "Plotting decision boundaries"
      ],
      "metadata": {
        "id": "XfGyfBqlUC2a"
      }
    },
    {
      "cell_type": "code",
      "execution_count": null,
      "metadata": {
        "colab": {
          "base_uri": "https://localhost:8080/",
          "height": 1000
        },
        "id": "XbOZbwhA5mds",
        "outputId": "24faa32f-637c-400c-cd2f-3dc8fb2928e1"
      },
      "outputs": [
        {
          "output_type": "display_data",
          "data": {
            "text/plain": [
              "<Figure size 432x288 with 1 Axes>"
            ],
            "image/png": "[encoded data removed]"
          },
          "metadata": {
            "needs_background": "light"
          }
        },
        {
          "output_type": "display_data",
          "data": {
            "text/plain": [
              "<Figure size 432x288 with 1 Axes>"
            ],
            "image/png": "[encoded data removed]"
          },
          "metadata": {
            "needs_background": "light"
          }
        },
        {
          "output_type": "display_data",
          "data": {
            "text/plain": [
              "<Figure size 432x288 with 1 Axes>"
            ],
            "image/png": "[encoded data removed]"
          },
          "metadata": {
            "needs_background": "light"
          }
        },
        {
          "output_type": "display_data",
          "data": {
            "text/plain": [
              "<Figure size 432x288 with 1 Axes>"
            ],
            "image/png": "[encoded data removed]"
          },
          "metadata": {
            "needs_background": "light"
          }
        },
        {
          "output_type": "display_data",
          "data": {
            "text/plain": [
              "<Figure size 432x288 with 1 Axes>"
            ],
            "image/png": "[encoded data removed]"
          },
          "metadata": {
            "needs_background": "light"
          }
        },
        {
          "output_type": "display_data",
          "data": {
            "text/plain": [
              "<Figure size 432x288 with 1 Axes>"
            ],
            "image/png": "[encoded data removed]"
          },
          "metadata": {
            "needs_background": "light"
          }
        }
      ],
      "source": [
        "def plot_log_model_decision_boundary(clf,data):\n",
        "  b = clf.intercept_[0]\n",
        "  w1, w2 = clf.coef_.T\n",
        "  # Calculate the intercept and gradient of the decision boundary.\n",
        "  c = -b/w2\n",
        "  m = -w1/w2\n",
        "\n",
        "  # Plot the data and the classification with the decision boundary.\n",
        "  xmin = min(data['Mean intensity of green'])\n",
        "  xmax=max(data['Mean intensity of green'])\n",
        "  ymin = min(data['Mean intensity of red'])\n",
        "  ymax=max(data['Mean intensity of red'])\n",
        "  xd = np.array([xmin, xmax])\n",
        "  yd = m*xd + c\n",
        "  plt.plot(xd, yd, 'k', lw=1, ls='--')\n",
        "  plt.fill_between(xd, yd, ymin, color='tab:orange', alpha=0.2)\n",
        "  plt.fill_between(xd, yd, ymax, color='tab:blue', alpha=0.2) \n",
        "  sns.scatterplot(x='Mean intensity of green', y='Mean intensity of red', data=data,\n",
        "                hue='Aniematic')\n",
        "  plt.show()\n",
        "plot_log_model_decision_boundary(logreg_cielab_fp,data_cielab_fp)\n",
        "plot_log_model_decision_boundary(logreg_cielab_f,data_cielab_f)\n",
        "plot_log_model_decision_boundary(logreg_cielab_p,data_cielab_p)\n",
        "plot_log_model_decision_boundary(logreg_rgb_fp,data_rgb_fp)\n",
        "plot_log_model_decision_boundary(logreg_rgb_f,data_rgb_f)\n",
        "plot_log_model_decision_boundary(logreg_rgb_p,data_rgb_p)\n"
      ]
    },
    {
      "cell_type": "code",
      "execution_count": null,
      "metadata": {
        "id": "8ad1BGmB8oEX"
      },
      "outputs": [],
      "source": [
        "'''\n",
        "#cross validation\n",
        "from sklearn.model_selection import cross_val_score\n",
        "clf = logreg\n",
        "scores = cross_val_score(clf, x_cielab_fp, y_cielab_fp, cv=10)\n",
        "scores\n",
        "'''"
      ]
    },
    {
      "cell_type": "markdown",
      "source": [
        "Hyperparameters of SVM"
      ],
      "metadata": {
        "id": "TgFOWz7gURFE"
      }
    },
    {
      "cell_type": "code",
      "execution_count": null,
      "metadata": {
        "id": "ZEC15Mnt8w0u"
      },
      "outputs": [],
      "source": [
        "param_svm = {'kernel' : ('poly', 'rbf'), 'C':[0.01, 0.1, 0.5, 1, 10]}\n",
        "svm_model=svm.SVC() \n",
        "def svm_hyper_parameters(x_train,y_train):\n",
        "  svm_gscv = GridSearchCV(svm_model, param_svm)\n",
        "  svm_gscv.fit(x_train, y_train)\n",
        "  svm_best_parameters=svm_gscv.best_params_\n",
        "  C_svm=svm_best_parameters['C']\n",
        "  kernel_svm=svm_best_parameters['kernel']\n",
        "  return(C_svm,kernel_svm)\n",
        "\n",
        "C_svm_cielab_fp,kernel_svm_cielab_fp=svm_hyper_parameters(x_train_cielab_fp, y_train_cielab_fp)\n",
        "C_svm_cielab_f,kernel_svm_cielab_f=svm_hyper_parameters(x_train_cielab_f, y_train_cielab_f)\n",
        "C_svm_cielab_p,kernel_svm_cielab_p=svm_hyper_parameters(x_train_cielab_p, y_train_cielab_p)\n",
        "\n",
        "C_svm_rgb_fp,kernel_svm_rgb_fp=svm_hyper_parameters(x_train_rgb_fp, y_train_rgb_fp)\n",
        "C_svm_rgb_f,kernel_svm_rgb_f=svm_hyper_parameters(x_train_rgb_f, y_train_rgb_f)\n",
        "C_svm_rgb_p,kernel_svm_rgb_p=svm_hyper_parameters(x_train_rgb_p, y_train_rgb_p)"
      ]
    },
    {
      "cell_type": "markdown",
      "source": [
        "Training , resting and scoring of SVM"
      ],
      "metadata": {
        "id": "Y-DxQMTRUVuk"
      }
    },
    {
      "cell_type": "code",
      "execution_count": null,
      "metadata": {
        "colab": {
          "base_uri": "https://localhost:8080/"
        },
        "id": "_NRsVuac84EF",
        "outputId": "fa3b09fa-da28-41e0-b13d-3a29ec06f828"
      },
      "outputs": [
        {
          "output_type": "stream",
          "name": "stdout",
          "text": [
            "svm train score is: 0.9863945578231292 svm test is 1.0\n",
            "svm train score is: 1.0 svm test is 1.0\n",
            "svm train score is: 1.0 svm test is 1.0\n",
            "svm train score is: 0.8027210884353742 svm test is 0.7619047619047619\n",
            "svm train score is: 0.5945945945945946 svm test is 0.5625\n",
            "svm train score is: 0.695364238410596 svm test is 0.5846153846153846\n"
          ]
        }
      ],
      "source": [
        "def svm_training_testing_scoring(c,kernel,x_train,x_test,y_train,y_test):\n",
        "  svm_clf = svm.SVC(C=  c,kernel= kernel)\n",
        "  svm_clf.fit(x_train,y_train)\n",
        "  svm_train=svm_clf.score(x_train,y_train)\n",
        "  svm_test=svm_clf.score(x_test,y_test)\n",
        "  print(\"svm train score is:\",svm_train,\"svm test is\",svm_test)\n",
        "  return svm_clf\n",
        "\n",
        "\n",
        "svm_cielab_fp = svm_training_testing_scoring(C_svm_cielab_fp,kernel_svm_cielab_fp,x_train_cielab_fp,x_test_cielab_fp,y_train_cielab_fp,y_test_cielab_fp)\n",
        "svm_cielab_f = svm_training_testing_scoring(C_svm_cielab_f,kernel_svm_cielab_f,x_train_cielab_f,x_test_cielab_f,y_train_cielab_f,y_test_cielab_f)\n",
        "svm_cielab_p = svm_training_testing_scoring(C_svm_cielab_p,kernel_svm_cielab_p,x_train_cielab_p,x_test_cielab_p,y_train_cielab_p,y_test_cielab_p)\n",
        "\n",
        "svm_rgb_fp = svm_training_testing_scoring(C_svm_rgb_fp, kernel_svm_rgb_fp,x_train_rgb_fp,x_test_rgb_fp,y_train_rgb_fp,y_test_rgb_fp)\n",
        "svm_rgb_f = svm_training_testing_scoring(C_svm_rgb_f,kernel_svm_rgb_f,x_train_rgb_f,x_test_rgb_f,y_train_rgb_f,y_test_rgb_f)\n",
        "svm_rgb_p = svm_training_testing_scoring(C_svm_rgb_p,kernel_svm_rgb_p,x_train_rgb_p,x_test_rgb_p,y_train_rgb_p,y_test_rgb_p)"
      ]
    },
    {
      "cell_type": "markdown",
      "source": [
        "Hyperparameters of decision trees"
      ],
      "metadata": {
        "id": "CChkHkfvUaOL"
      }
    },
    {
      "cell_type": "code",
      "execution_count": null,
      "metadata": {
        "id": "rt026_Ny9Cmy"
      },
      "outputs": [],
      "source": [
        "param_tree={'criterion':('gini', 'entropy'),'max_depth':[2,4,6,8,10,12]}\n",
        "tree_model=DecisionTreeClassifier() \n",
        "\n",
        "def tree_hyper_parameters(x_train,y_train):\n",
        "  tree_gscv= GridSearchCV(tree_model, param_tree)\n",
        "  tree_gscv.fit(x_train, y_train)\n",
        "  tree_best_parameters=tree_gscv.best_params_\n",
        "  max_depth=tree_best_parameters['max_depth']\n",
        "  criterion=tree_best_parameters['criterion']\n",
        "  return(max_depth,criterion)\n",
        "\n",
        "\n",
        "\n",
        "max_depth_cielab_fp,criterion_cielab_fp=tree_hyper_parameters(x_train_cielab_fp,y_train_cielab_fp)\n",
        "max_depth_cielab_f,criterion_cielab_f=tree_hyper_parameters(x_train_cielab_f,y_train_cielab_f)\n",
        "max_depth_cielab_p,criterion_cielab_p=tree_hyper_parameters(x_train_cielab_p,y_train_cielab_p)\n",
        "\n",
        "max_depth_rgb_fp,criterion_rgb_fp=tree_hyper_parameters(x_train_rgb_fp,y_train_rgb_fp)\n",
        "max_depth_rgb_f,criterion_rgb_f=tree_hyper_parameters(x_train_rgb_f,y_train_rgb_f)\n",
        "max_depth_rgb_p,criterion_rgb_p=tree_hyper_parameters(x_train_rgb_p,y_train_rgb_p)"
      ]
    },
    {
      "cell_type": "markdown",
      "source": [
        "Training,testing and scoring of decision tress"
      ],
      "metadata": {
        "id": "hvFNK_cwUeYW"
      }
    },
    {
      "cell_type": "code",
      "execution_count": null,
      "metadata": {
        "colab": {
          "base_uri": "https://localhost:8080/"
        },
        "id": "luz4_0D79Hks",
        "outputId": "c09d24fb-0d72-426f-c32e-754ebff5df5d"
      },
      "outputs": [
        {
          "output_type": "stream",
          "name": "stdout",
          "text": [
            "tree train score is: 1.0 tree test is 0.9841269841269841\n",
            "tree train score is: 1.0 tree test is 1.0\n",
            "tree train score is: 1.0 tree test is 1.0\n",
            "tree train score is: 0.8843537414965986 tree test is 0.6666666666666666\n",
            "tree train score is: 0.75 tree test is 0.609375\n",
            "tree train score is: 1.0 tree test is 0.6615384615384615\n"
          ]
        }
      ],
      "source": [
        "def tree_training_testing_scoring(criterion,max_depth,x_train,x_test,y_train,y_test):\n",
        "  clf_tree = DecisionTreeClassifier(criterion=criterion,max_depth=max_depth)\n",
        "  clf_tree.fit(x_train, y_train)\n",
        "  tree_train=clf_tree.score(x_train, y_train)\n",
        "  tree_test=clf_tree.score(x_test, y_test)\n",
        "  print(\"tree train score is:\",tree_train,\"tree test is\",tree_test)\n",
        "  return clf_tree\n",
        "\n",
        "\n",
        "clf_tree_cielab_fp = tree_training_testing_scoring(criterion_cielab_fp,max_depth_cielab_fp,x_train_cielab_fp,x_test_cielab_fp,y_train_cielab_fp,y_test_cielab_fp)\n",
        "clf_tree_cielab_f = tree_training_testing_scoring(criterion_cielab_f,max_depth_cielab_f,x_train_cielab_f,x_test_cielab_f,y_train_cielab_f,y_test_cielab_f)\n",
        "clf_tree_cielab_p = tree_training_testing_scoring(criterion_cielab_p,max_depth_cielab_p,x_train_cielab_p,x_test_cielab_p,y_train_cielab_p,y_test_cielab_p)\n",
        "\n",
        "clf_tree_rgb_fp = tree_training_testing_scoring(criterion_rgb_fp,max_depth_rgb_fp,x_train_rgb_fp,x_test_rgb_fp,y_train_rgb_fp,y_test_rgb_fp)\n",
        "clf_tree_rgb_f = tree_training_testing_scoring(criterion_rgb_f,max_depth_rgb_f,x_train_rgb_f,x_test_rgb_f,y_train_rgb_f,y_test_rgb_f)\n",
        "clf_tree_rgb_p = tree_training_testing_scoring(criterion_rgb_p,max_depth_rgb_p,x_train_rgb_p,x_test_rgb_p,y_train_rgb_p,y_test_rgb_p)\n"
      ]
    },
    {
      "cell_type": "markdown",
      "source": [
        "Training ,testing and scoring of naive bayes"
      ],
      "metadata": {
        "id": "B9kb79wPUkdP"
      }
    },
    {
      "cell_type": "code",
      "execution_count": null,
      "metadata": {
        "colab": {
          "base_uri": "https://localhost:8080/"
        },
        "id": "1ozXRo9E9RF8",
        "outputId": "d5b18e12-dc72-4163-87ba-30974f837091"
      },
      "outputs": [
        {
          "output_type": "stream",
          "name": "stdout",
          "text": [
            "nb train score is: 0.9727891156462585 nb test is 0.9841269841269841\n",
            "nb train score is: 1.0 nb test is 1.0\n",
            "nb train score is: 1.0 nb test is 1.0\n",
            "nb train score is: 0.5238095238095238 nb test is 0.5238095238095238\n",
            "nb train score is: 0.5608108108108109 nb test is 0.59375\n",
            "nb train score is: 0.695364238410596 nb test is 0.5846153846153846\n"
          ]
        }
      ],
      "source": [
        "def nb_training_testing_scoring(x_train,x_test,y_train,y_test):\n",
        "  gauss_model= GaussianNB()\n",
        "  gauss_model.fit(x_train, y_train)\n",
        "  nb_train=gauss_model.score(x_train, y_train)\n",
        "  nb_test=gauss_model.score(x_test, y_test)\n",
        "  print(\"nb train score is:\",nb_train,\"nb test is\",nb_test)\n",
        "  return gauss_model\n",
        "gauss_model_cielab_fp=nb_training_testing_scoring(x_train_cielab_fp,x_test_cielab_fp,y_train_cielab_fp,y_test_cielab_fp)\n",
        "gauss_model_cielab_f = nb_training_testing_scoring(x_train_cielab_f,x_test_cielab_f,y_train_cielab_f,y_test_cielab_f)\n",
        "gauss_model_cielab_p = nb_training_testing_scoring(x_train_cielab_p,x_test_cielab_p,y_train_cielab_p,y_test_cielab_p)\n",
        "gauss_model_rgb_fp = nb_training_testing_scoring(x_train_rgb_fp,x_test_rgb_fp,y_train_rgb_fp,y_test_rgb_fp)\n",
        "gauss_model_rgb_f = nb_training_testing_scoring(x_train_rgb_f,x_test_rgb_f,y_train_rgb_f,y_test_rgb_f)\n",
        "gauss_model_rgb_p = nb_training_testing_scoring(x_train_rgb_p,x_test_rgb_p,y_train_rgb_p,y_test_rgb_p)"
      ]
    },
    {
      "cell_type": "markdown",
      "source": [
        "Hyperparameters of knn"
      ],
      "metadata": {
        "id": "UB_qS1OcUpj0"
      }
    },
    {
      "cell_type": "code",
      "execution_count": null,
      "metadata": {
        "colab": {
          "base_uri": "https://localhost:8080/",
          "height": 1000
        },
        "id": "1yaKMFTS9dPg",
        "outputId": "7f0fb091-a8c0-40ef-f0af-3f4880ba1b06"
      },
      "outputs": [
        {
          "output_type": "display_data",
          "data": {
            "text/plain": [
              "<Figure size 432x288 with 1 Axes>"
            ],
            "image/png": "[encoded data removed]"
          },
          "metadata": {
            "needs_background": "light"
          }
        },
        {
          "output_type": "display_data",
          "data": {
            "text/plain": [
              "<Figure size 432x288 with 1 Axes>"
            ],
            "image/png": "[encoded data removed]"
          },
          "metadata": {
            "needs_background": "light"
          }
        },
        {
          "output_type": "display_data",
          "data": {
            "text/plain": [
              "<Figure size 432x288 with 1 Axes>"
            ],
            "image/png": "[encoded data removed]"
          },
          "metadata": {
            "needs_background": "light"
          }
        },
        {
          "output_type": "display_data",
          "data": {
            "text/plain": [
              "<Figure size 432x288 with 1 Axes>"
            ],
            "image/png": "[encoded data removed]"
          },
          "metadata": {
            "needs_background": "light"
          }
        },
        {
          "output_type": "display_data",
          "data": {
            "text/plain": [
              "<Figure size 432x288 with 1 Axes>"
            ],
            "image/png": "[encoded data removed]"
          },
          "metadata": {
            "needs_background": "light"
          }
        },
        {
          "output_type": "display_data",
          "data": {
            "text/plain": [
              "<Figure size 432x288 with 1 Axes>"
            ],
            "image/png": "[encoded data removed]"
          },
          "metadata": {
            "needs_background": "light"
          }
        }
      ],
      "source": [
        "#Visualization\n",
        "#to choose best k for knn\n",
        "import matplotlib.pyplot as plt\n",
        "%matplotlib inline\n",
        "def visualization_for_kmeans(x_train,x_test,y_train,y_test):\n",
        "  k_range = range(1,40)\n",
        "  scores = []\n",
        "\n",
        "  for k in k_range:\n",
        "      knn = KNeighborsClassifier(n_neighbors = k)\n",
        "      knn.fit(x_train, y_train)\n",
        "      scores.append(knn.score(x_test, y_test))\n",
        "  max_score=max(scores)\n",
        "  k_number=scores.index(max_score)+1\n",
        "\n",
        "  plt.figure()\n",
        "  plt.xlabel('k')\n",
        "  plt.ylabel('accuracy')\n",
        "  plt.scatter(k_range, scores)\n",
        "  plt.xticks([0,5,10,15,20,25,30,35]);\n",
        "  return k_number\n",
        "\n",
        "k_number_cielab_fp=visualization_for_kmeans(x_train_cielab_fp,x_test_cielab_fp,y_train_cielab_fp,y_test_cielab_fp)\n",
        "k_number_cielab_f=visualization_for_kmeans(x_train_cielab_f,x_test_cielab_f,y_train_cielab_f,y_test_cielab_f)\n",
        "k_number_cielab_p=visualization_for_kmeans(x_train_cielab_p,x_test_cielab_p,y_train_cielab_p,y_test_cielab_p)\n",
        "k_number_rgb_fp=visualization_for_kmeans(x_train_rgb_fp,x_test_rgb_fp,y_train_rgb_fp,y_test_rgb_fp)\n",
        "k_number_rgb_f=visualization_for_kmeans(x_train_rgb_f,x_test_rgb_f,y_train_rgb_f,y_test_rgb_f)\n",
        "k_number_rgb_p=visualization_for_kmeans(x_train_rgb_p,x_test_rgb_p,y_train_rgb_p,y_test_rgb_p)\n"
      ]
    },
    {
      "cell_type": "markdown",
      "source": [
        "Training,testing and scoring of knn"
      ],
      "metadata": {
        "id": "Mj6rfNRZUuJF"
      }
    },
    {
      "cell_type": "code",
      "execution_count": null,
      "metadata": {
        "colab": {
          "base_uri": "https://localhost:8080/"
        },
        "id": "j50PWMAl9rRV",
        "outputId": "d1e240d1-bd9b-4f73-ce2c-668719e4283c"
      },
      "outputs": [
        {
          "output_type": "stream",
          "name": "stdout",
          "text": [
            "knn train score is: 1.0 knn test score is 1.0\n",
            "knn train score is: 1.0 knn test score is 1.0\n",
            "knn train score is: 1.0 knn test score is 1.0\n",
            "knn train score is: 0.7891156462585034 knn test score is 0.7142857142857143\n",
            "knn train score is: 0.6148648648648649 knn test score is 0.6875\n",
            "knn train score is: 0.8278145695364238 knn test score is 0.8461538461538461\n"
          ]
        }
      ],
      "source": [
        "def knn_model_training_testing_scoring(k_number,x_train,x_test,y_train,y_test):\n",
        "  knn = KNeighborsClassifier(n_neighbors=k_number)\n",
        "  #training\n",
        "  knn.fit(x_train, y_train)\n",
        "  #scores\n",
        "  #training\n",
        "  knn_train=knn.score(x_train, y_train)\n",
        "  #testing\n",
        "  knn_test=knn.score(x_test, y_test)\n",
        "  print(\"knn train score is:\",knn_train,\"knn test score is\",knn_test)\n",
        "  return knn\n",
        "\n",
        "knn_model_cielab_fp=knn_model_training_testing_scoring(k_number_cielab_fp,x_train_cielab_fp,x_test_cielab_fp,y_train_cielab_fp,y_test_cielab_fp)\n",
        "knn_model_cielab_f=knn_model_training_testing_scoring(k_number_cielab_f,x_train_cielab_f,x_test_cielab_f,y_train_cielab_f,y_test_cielab_f)\n",
        "knn_model_cielab_p=knn_model_training_testing_scoring(k_number_cielab_p,x_train_cielab_p,x_test_cielab_p,y_train_cielab_p,y_test_cielab_p)\n",
        "knn_model_rgb_fp=knn_model_training_testing_scoring(k_number_rgb_fp,x_train_rgb_fp,x_test_rgb_fp,y_train_rgb_fp,y_test_rgb_fp)\n",
        "knn_model_rgb_f=knn_model_training_testing_scoring(k_number_rgb_f,x_train_rgb_f,x_test_rgb_f,y_train_rgb_f,y_test_rgb_f)\n",
        "knn_model_rgb_p=knn_model_training_testing_scoring(k_number_rgb_p,x_train_rgb_p,x_test_rgb_p,y_train_rgb_p,y_test_rgb_p)"
      ]
    },
    {
      "cell_type": "markdown",
      "source": [
        "Model scores"
      ],
      "metadata": {
        "id": "V5qQRqnfUyDW"
      }
    },
    {
      "cell_type": "code",
      "execution_count": null,
      "metadata": {
        "colab": {
          "base_uri": "https://localhost:8080/"
        },
        "id": "jsRqil0H9ztQ",
        "outputId": "2755c108-4991-4160-ba3f-8a546c4efa9e"
      },
      "outputs": [
        {
          "output_type": "stream",
          "name": "stdout",
          "text": [
            "Cielab fp Logistic Regression: 1.0\n",
            "Precision: 1.000\n",
            "Recall: 1.000\n",
            "F1 Score: 1.000\n",
            "[[34  0]\n",
            " [ 0 29]]\n",
            "____________________________________________________________________\n",
            "Cielab fp SVM                : 1.0\n",
            "Precision: 1.000\n",
            "Recall: 1.000\n",
            "F1 Score: 1.000\n",
            "[[34  0]\n",
            " [ 0 29]]\n",
            "____________________________________________________________________\n",
            "Cielab fp Decision Tree      : 0.9841269841269841\n",
            "Precision: 1.000\n",
            "Recall: 0.966\n",
            "F1 Score: 0.982\n",
            "[[34  0]\n",
            " [ 1 28]]\n",
            "____________________________________________________________________\n",
            "Cielab fp Naive Bayes        : 0.9841269841269841\n",
            "Precision: 0.967\n",
            "Recall: 1.000\n",
            "F1 Score: 0.983\n",
            "[[33  1]\n",
            " [ 0 29]]\n",
            "____________________________________________________________________\n",
            "Cielab fp KNN                : 1.0\n",
            "Precision: 1.000\n",
            "Recall: 1.000\n",
            "F1 Score: 1.000\n",
            "[[34  0]\n",
            " [ 0 29]]\n",
            "____________________________________________________________________\n",
            "Cielab f Logistic Regression: 1.0\n",
            "Precision: 1.000\n",
            "Recall: 1.000\n",
            "F1 Score: 1.000\n",
            "[[33  0]\n",
            " [ 0 31]]\n",
            "____________________________________________________________________\n",
            "Cielab f SVM                : 1.0\n",
            "Precision: 1.000\n",
            "Recall: 1.000\n",
            "F1 Score: 1.000\n",
            "[[33  0]\n",
            " [ 0 31]]\n",
            "____________________________________________________________________\n",
            "Cielab f Decision Tree      : 1.0\n",
            "Precision: 1.000\n",
            "Recall: 1.000\n",
            "F1 Score: 1.000\n",
            "[[33  0]\n",
            " [ 0 31]]\n",
            "____________________________________________________________________\n",
            "Cielab f Naive Bayes        : 1.0\n",
            "Precision: 1.000\n",
            "Recall: 1.000\n",
            "F1 Score: 1.000\n",
            "[[33  0]\n",
            " [ 0 31]]\n",
            "____________________________________________________________________\n",
            "Cielab f KNN                : 1.0\n",
            "Precision: 1.000\n",
            "Recall: 1.000\n",
            "F1 Score: 1.000\n",
            "[[33  0]\n",
            " [ 0 31]]\n",
            "____________________________________________________________________\n",
            "Cielab p Logistic Regression: 1.0\n",
            "Precision: 1.000\n",
            "Recall: 1.000\n",
            "F1 Score: 1.000\n",
            "[[33  0]\n",
            " [ 0 32]]\n",
            "____________________________________________________________________\n",
            "Cielab p SVM                : 1.0\n",
            "Precision: 1.000\n",
            "Recall: 1.000\n",
            "F1 Score: 1.000\n",
            "[[33  0]\n",
            " [ 0 32]]\n",
            "____________________________________________________________________\n",
            "Cielab p Decision Tree      : 1.0\n",
            "Precision: 1.000\n",
            "Recall: 1.000\n",
            "F1 Score: 1.000\n",
            "[[33  0]\n",
            " [ 0 32]]\n",
            "____________________________________________________________________\n",
            "Cielab p Naive Bayes        : 1.0\n",
            "Precision: 1.000\n",
            "Recall: 1.000\n",
            "F1 Score: 1.000\n",
            "[[33  0]\n",
            " [ 0 32]]\n",
            "____________________________________________________________________\n",
            "Cielab p KNN                : 1.0\n",
            "Precision: 1.000\n",
            "Recall: 1.000\n",
            "F1 Score: 1.000\n",
            "[[33  0]\n",
            " [ 0 32]]\n",
            "____________________________________________________________________\n",
            "rgb fp Logistic Regression: 0.7619047619047619\n",
            "Precision: 0.792\n",
            "Recall: 0.655\n",
            "F1 Score: 0.717\n",
            "[[29  5]\n",
            " [10 19]]\n",
            "____________________________________________________________________\n",
            "rgb fp SVM                : 0.7619047619047619\n",
            "Precision: 0.792\n",
            "Recall: 0.655\n",
            "F1 Score: 0.717\n",
            "[[29  5]\n",
            " [10 19]]\n",
            "____________________________________________________________________\n",
            "rgb fp Decision Tree      : 0.6666666666666666\n",
            "Precision: 0.722\n",
            "Recall: 0.448\n",
            "F1 Score: 0.553\n",
            "[[29  5]\n",
            " [16 13]]\n",
            "____________________________________________________________________\n",
            "rgb fp Naive Bayes        : 0.5238095238095238\n",
            "Precision: 0.333\n",
            "Recall: 0.034\n",
            "F1 Score: 0.062\n",
            "[[32  2]\n",
            " [28  1]]\n",
            "____________________________________________________________________\n",
            "rgb fp KNN                : 0.7142857142857143\n",
            "Precision: 0.720\n",
            "Recall: 0.621\n",
            "F1 Score: 0.667\n",
            "[[27  7]\n",
            " [11 18]]\n",
            "____________________________________________________________________\n",
            "rgb f Logistic Regression: 0.5625\n",
            "Precision: 0.565\n",
            "Recall: 0.419\n",
            "F1 Score: 0.481\n",
            "[[23 10]\n",
            " [18 13]]\n",
            "____________________________________________________________________\n",
            "rgb f SVM                : 0.5625\n",
            "Precision: 0.565\n",
            "Recall: 0.419\n",
            "F1 Score: 0.481\n",
            "[[23 10]\n",
            " [18 13]]\n",
            "____________________________________________________________________\n",
            "rgb f Decision Tree      : 0.609375\n",
            "Precision: 0.625\n",
            "Recall: 0.484\n",
            "F1 Score: 0.545\n",
            "[[24  9]\n",
            " [16 15]]\n",
            "____________________________________________________________________\n",
            "rgb f Naive Bayes        : 0.59375\n",
            "Precision: 0.568\n",
            "Recall: 0.677\n",
            "F1 Score: 0.618\n",
            "[[17 16]\n",
            " [10 21]]\n",
            "____________________________________________________________________\n",
            "rgb f KNN                : 0.6875\n",
            "Precision: 0.789\n",
            "Recall: 0.484\n",
            "F1 Score: 0.600\n",
            "[[29  4]\n",
            " [16 15]]\n",
            "____________________________________________________________________\n",
            "rgb p Logistic Regression: 0.7384615384615385\n",
            "Precision: 0.778\n",
            "Recall: 0.656\n",
            "F1 Score: 0.712\n",
            "[[27  6]\n",
            " [11 21]]\n",
            "____________________________________________________________________\n",
            "rgb p SVM                : 0.5846153846153846\n",
            "Precision: 0.667\n",
            "Recall: 0.312\n",
            "F1 Score: 0.426\n",
            "[[28  5]\n",
            " [22 10]]\n",
            "____________________________________________________________________\n",
            "rgb p Decision Tree      : 0.6307692307692307\n",
            "Precision: 0.625\n",
            "Recall: 0.625\n",
            "F1 Score: 0.625\n",
            "[[21 12]\n",
            " [12 20]]\n",
            "____________________________________________________________________\n",
            "rgb p Naive Bayes        : 0.5846153846153846\n",
            "Precision: 0.667\n",
            "Recall: 0.312\n",
            "F1 Score: 0.426\n",
            "[[28  5]\n",
            " [22 10]]\n",
            "____________________________________________________________________\n",
            "rgb p KNN                : 0.8461538461538461\n",
            "Precision: 0.867\n",
            "Recall: 0.812\n",
            "F1 Score: 0.839\n",
            "[[29  4]\n",
            " [ 6 26]]\n",
            "____________________________________________________________________\n"
          ]
        }
      ],
      "source": [
        "models_cielab_fp = []\n",
        "models_cielab_fp.append(('Cielab fp Logistic Regression:',logreg_cielab_fp))\n",
        "models_cielab_fp.append(('Cielab fp SVM                :', svm_cielab_fp))\n",
        "models_cielab_fp.append(('Cielab fp Decision Tree      :', clf_tree_cielab_fp))\n",
        "models_cielab_fp.append(('Cielab fp Naive Bayes        :',gauss_model_cielab_fp))\n",
        "models_cielab_fp.append(('Cielab fp KNN                :', knn_model_cielab_fp))\n",
        "\n",
        "models_cielab_f = []\n",
        "models_cielab_f.append(('Cielab f Logistic Regression:',logreg_cielab_f))\n",
        "models_cielab_f.append(('Cielab f SVM                :', svm_cielab_f))\n",
        "models_cielab_f.append(('Cielab f Decision Tree      :', clf_tree_cielab_f))\n",
        "models_cielab_f.append(('Cielab f Naive Bayes        :',gauss_model_cielab_f))\n",
        "models_cielab_f.append(('Cielab f KNN                :', knn_model_cielab_f))\n",
        "\n",
        "models_cielab_p = []\n",
        "models_cielab_p.append(('Cielab p Logistic Regression:',logreg_cielab_p))\n",
        "models_cielab_p.append(('Cielab p SVM                :', svm_cielab_p))\n",
        "models_cielab_p.append(('Cielab p Decision Tree      :', clf_tree_cielab_p))\n",
        "models_cielab_p.append(('Cielab p Naive Bayes        :',gauss_model_cielab_p))\n",
        "models_cielab_p.append(('Cielab p KNN                :', knn_model_cielab_p))\n",
        "\n",
        "models_rgb_fp = []\n",
        "models_rgb_fp.append(('rgb fp Logistic Regression:',logreg_rgb_fp))\n",
        "models_rgb_fp.append(('rgb fp SVM                :', svm_rgb_fp))\n",
        "models_rgb_fp.append(('rgb fp Decision Tree      :', clf_tree_rgb_fp))\n",
        "models_rgb_fp.append(('rgb fp Naive Bayes        :',gauss_model_rgb_fp))\n",
        "models_rgb_fp.append(('rgb fp KNN                :', knn_model_rgb_fp))\n",
        "\n",
        "models_rgb_f = []\n",
        "models_rgb_f.append(('rgb f Logistic Regression:',logreg_rgb_f))\n",
        "models_rgb_f.append(('rgb f SVM                :', svm_rgb_f))\n",
        "models_rgb_f.append(('rgb f Decision Tree      :', clf_tree_rgb_f))\n",
        "models_rgb_f.append(('rgb f Naive Bayes        :',gauss_model_rgb_f))\n",
        "models_rgb_f.append(('rgb f KNN                :', knn_model_rgb_f))\n",
        "\n",
        "models_rgb_p = []\n",
        "models_rgb_p.append(('rgb p Logistic Regression:',logreg_rgb_p))\n",
        "models_rgb_p.append(('rgb p SVM                :', svm_rgb_p))\n",
        "models_rgb_p.append(('rgb p Decision Tree      :', clf_tree_rgb_p))\n",
        "models_rgb_p.append(('rgb p Naive Bayes        :',gauss_model_rgb_p))\n",
        "models_rgb_p.append(('rgb p KNN                :', knn_model_rgb_p))\n",
        "def print_model_metrics(model_list,x_train,x_test,y_train,y_test):\n",
        "  for name, model in model_list:\n",
        "      model.fit(x_train, y_train)\n",
        "      pred = model.predict(x_test).astype(int)\n",
        "      print(name,accuracy_score(y_test, pred))\n",
        "      print('Precision: %.3f' % precision_score(y_test, pred))\n",
        "      print('Recall: %.3f' % recall_score(y_test, pred))   \t\n",
        "      print('F1 Score: %.3f' % f1_score(y_test, pred))\n",
        "      print(confusion_matrix(y_test, pred))\n",
        "      print(\"____________________________________________________________________\")\n",
        "print_model_metrics(models_cielab_fp,x_train_cielab_fp,x_test_cielab_fp,y_train_cielab_fp,y_test_cielab_fp)\n",
        "print_model_metrics(models_cielab_f,x_train_cielab_f,x_test_cielab_f,y_train_cielab_f,y_test_cielab_f)\n",
        "print_model_metrics(models_cielab_p,x_train_cielab_p,x_test_cielab_p,y_train_cielab_p,y_test_cielab_p)\n",
        "print_model_metrics(models_rgb_fp,x_train_rgb_fp,x_test_rgb_fp,y_train_rgb_fp,y_test_rgb_fp)\n",
        "print_model_metrics(models_rgb_f,x_train_rgb_f,x_test_rgb_f,y_train_rgb_f,y_test_rgb_f)\n",
        "print_model_metrics(models_rgb_p,x_train_rgb_p,x_test_rgb_p,y_train_rgb_p,y_test_rgb_p)"
      ]
    },
    {
      "cell_type": "markdown",
      "metadata": {
        "id": "or-IFUCOeko_"
      },
      "source": [
        "Saving model"
      ]
    },
    {
      "cell_type": "code",
      "execution_count": null,
      "metadata": {
        "id": "rIbk_ocTekKw"
      },
      "outputs": [],
      "source": [
        "import pickle\n",
        "filename = 'finalized_logreg_cielab_fp.sav'\n",
        "pickle.dump(logreg_cielab_fp, open(filename, 'wb'))\n",
        "\n",
        "# some time later...\n",
        "\n",
        "# load the model from disk\n",
        "loaded_model = pickle.load(open(filename, 'rb'))\n",
        "#send a (1,2)size array to teh below function in the place of x test\n",
        "# ie.e an array contianing mr,mg\n",
        "#result = loaded_model.predict(X_test)"
      ]
    }
  ],
  "metadata": {
    "colab": {
      "provenance": []
    },
    "kernelspec": {
      "display_name": "Python 3",
      "name": "python3"
    },
    "language_info": {
      "name": "python"
    }
  },
  "nbformat": 4,
  "nbformat_minor": 0
}